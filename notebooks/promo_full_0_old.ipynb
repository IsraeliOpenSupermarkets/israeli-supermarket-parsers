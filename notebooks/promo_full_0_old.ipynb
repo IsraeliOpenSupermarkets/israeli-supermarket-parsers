{
 "cells": [
  {
   "cell_type": "code",
   "execution_count": 1,
   "id": "137c1c6b",
   "metadata": {},
   "outputs": [
    {
     "name": "stderr",
     "output_type": "stream",
     "text": [
      "/var/folders/3r/ygns0_h16pl1__pln5g3j8t80000gp/T/ipykernel_45939/1954238869.py:2: DtypeWarning: Columns (7,8,17,22,24) have mixed types. Specify dtype option on import or set low_memory=False.\n",
      "  df = pd.read_csv(\"promo_full.csv\").drop(columns=['Unnamed: 0'])\n"
     ]
    },
    {
     "data": {
      "text/html": [
       "<div>\n",
       "<style scoped>\n",
       "    .dataframe tbody tr th:only-of-type {\n",
       "        vertical-align: middle;\n",
       "    }\n",
       "\n",
       "    .dataframe tbody tr th {\n",
       "        vertical-align: top;\n",
       "    }\n",
       "\n",
       "    .dataframe thead th {\n",
       "        text-align: right;\n",
       "    }\n",
       "</style>\n",
       "<table border=\"1\" class=\"dataframe\">\n",
       "  <thead>\n",
       "    <tr style=\"text-align: right;\">\n",
       "      <th></th>\n",
       "      <th>file_id</th>\n",
       "      <th>chainid</th>\n",
       "      <th>subchainid</th>\n",
       "      <th>storeid</th>\n",
       "      <th>bikoretno</th>\n",
       "      <th>priceupdatedate</th>\n",
       "      <th>itemcode</th>\n",
       "      <th>isgiftitem</th>\n",
       "      <th>rewardtype</th>\n",
       "      <th>allowmultiplediscounts</th>\n",
       "      <th>...</th>\n",
       "      <th>remark</th>\n",
       "      <th>giftsitems</th>\n",
       "      <th>additionalscoupon</th>\n",
       "      <th>clubid</th>\n",
       "      <th>additionalsgiftcount</th>\n",
       "      <th>minpurchaseamount</th>\n",
       "      <th>additionalstotals</th>\n",
       "      <th>additionalsminbasketamount</th>\n",
       "      <th>minnoofitemsoffered</th>\n",
       "      <th>itemtype</th>\n",
       "    </tr>\n",
       "  </thead>\n",
       "  <tbody>\n",
       "    <tr>\n",
       "      <th>0</th>\n",
       "      <td>samples_promo_full/Super-Pharm/PromoFull729017...</td>\n",
       "      <td>7290172900007</td>\n",
       "      <td>100</td>\n",
       "      <td>311</td>\n",
       "      <td>100</td>\n",
       "      <td>2022-10-03</td>\n",
       "      <td>8714789177229</td>\n",
       "      <td>0</td>\n",
       "      <td>3</td>\n",
       "      <td>1</td>\n",
       "      <td>...</td>\n",
       "      <td>not_apply</td>\n",
       "      <td>not_apply</td>\n",
       "      <td>not_apply</td>\n",
       "      <td>not_apply</td>\n",
       "      <td>not_apply</td>\n",
       "      <td>not_apply</td>\n",
       "      <td>not_apply</td>\n",
       "      <td>not_apply</td>\n",
       "      <td>not_apply</td>\n",
       "      <td>not_apply</td>\n",
       "    </tr>\n",
       "    <tr>\n",
       "      <th>1</th>\n",
       "      <td>samples_promo_full/Super-Pharm/PromoFull729017...</td>\n",
       "      <td>7290172900007</td>\n",
       "      <td>100</td>\n",
       "      <td>311</td>\n",
       "      <td>100</td>\n",
       "      <td>2022-10-13</td>\n",
       "      <td>7290112490896</td>\n",
       "      <td>0</td>\n",
       "      <td>3</td>\n",
       "      <td>1</td>\n",
       "      <td>...</td>\n",
       "      <td>not_apply</td>\n",
       "      <td>not_apply</td>\n",
       "      <td>not_apply</td>\n",
       "      <td>not_apply</td>\n",
       "      <td>not_apply</td>\n",
       "      <td>not_apply</td>\n",
       "      <td>not_apply</td>\n",
       "      <td>not_apply</td>\n",
       "      <td>not_apply</td>\n",
       "      <td>not_apply</td>\n",
       "    </tr>\n",
       "    <tr>\n",
       "      <th>2</th>\n",
       "      <td>samples_promo_full/Super-Pharm/PromoFull729017...</td>\n",
       "      <td>7290172900007</td>\n",
       "      <td>100</td>\n",
       "      <td>311</td>\n",
       "      <td>100</td>\n",
       "      <td>2022-10-13</td>\n",
       "      <td>7290101864127</td>\n",
       "      <td>0</td>\n",
       "      <td>3</td>\n",
       "      <td>1</td>\n",
       "      <td>...</td>\n",
       "      <td>not_apply</td>\n",
       "      <td>not_apply</td>\n",
       "      <td>not_apply</td>\n",
       "      <td>not_apply</td>\n",
       "      <td>not_apply</td>\n",
       "      <td>not_apply</td>\n",
       "      <td>not_apply</td>\n",
       "      <td>not_apply</td>\n",
       "      <td>not_apply</td>\n",
       "      <td>not_apply</td>\n",
       "    </tr>\n",
       "    <tr>\n",
       "      <th>3</th>\n",
       "      <td>samples_promo_full/Super-Pharm/PromoFull729017...</td>\n",
       "      <td>7290172900007</td>\n",
       "      <td>100</td>\n",
       "      <td>311</td>\n",
       "      <td>100</td>\n",
       "      <td>2022-10-13</td>\n",
       "      <td>7290012116735</td>\n",
       "      <td>0</td>\n",
       "      <td>3</td>\n",
       "      <td>1</td>\n",
       "      <td>...</td>\n",
       "      <td>not_apply</td>\n",
       "      <td>not_apply</td>\n",
       "      <td>not_apply</td>\n",
       "      <td>not_apply</td>\n",
       "      <td>not_apply</td>\n",
       "      <td>not_apply</td>\n",
       "      <td>not_apply</td>\n",
       "      <td>not_apply</td>\n",
       "      <td>not_apply</td>\n",
       "      <td>not_apply</td>\n",
       "    </tr>\n",
       "    <tr>\n",
       "      <th>4</th>\n",
       "      <td>samples_promo_full/Super-Pharm/PromoFull729017...</td>\n",
       "      <td>7290172900007</td>\n",
       "      <td>100</td>\n",
       "      <td>311</td>\n",
       "      <td>100</td>\n",
       "      <td>2022-10-13</td>\n",
       "      <td>8690637704291</td>\n",
       "      <td>0</td>\n",
       "      <td>3</td>\n",
       "      <td>1</td>\n",
       "      <td>...</td>\n",
       "      <td>not_apply</td>\n",
       "      <td>not_apply</td>\n",
       "      <td>not_apply</td>\n",
       "      <td>not_apply</td>\n",
       "      <td>not_apply</td>\n",
       "      <td>not_apply</td>\n",
       "      <td>not_apply</td>\n",
       "      <td>not_apply</td>\n",
       "      <td>not_apply</td>\n",
       "      <td>not_apply</td>\n",
       "    </tr>\n",
       "  </tbody>\n",
       "</table>\n",
       "<p>5 rows × 42 columns</p>\n",
       "</div>"
      ],
      "text/plain": [
       "                                             file_id        chainid  \\\n",
       "0  samples_promo_full/Super-Pharm/PromoFull729017...  7290172900007   \n",
       "1  samples_promo_full/Super-Pharm/PromoFull729017...  7290172900007   \n",
       "2  samples_promo_full/Super-Pharm/PromoFull729017...  7290172900007   \n",
       "3  samples_promo_full/Super-Pharm/PromoFull729017...  7290172900007   \n",
       "4  samples_promo_full/Super-Pharm/PromoFull729017...  7290172900007   \n",
       "\n",
       "   subchainid  storeid  bikoretno priceupdatedate       itemcode isgiftitem  \\\n",
       "0         100      311        100      2022-10-03  8714789177229          0   \n",
       "1         100      311        100      2022-10-13  7290112490896          0   \n",
       "2         100      311        100      2022-10-13  7290101864127          0   \n",
       "3         100      311        100      2022-10-13  7290012116735          0   \n",
       "4         100      311        100      2022-10-13  8690637704291          0   \n",
       "\n",
       "   rewardtype  allowmultiplediscounts  ...     remark giftsitems  \\\n",
       "0           3                       1  ...  not_apply  not_apply   \n",
       "1           3                       1  ...  not_apply  not_apply   \n",
       "2           3                       1  ...  not_apply  not_apply   \n",
       "3           3                       1  ...  not_apply  not_apply   \n",
       "4           3                       1  ...  not_apply  not_apply   \n",
       "\n",
       "  additionalscoupon     clubid additionalsgiftcount minpurchaseamount  \\\n",
       "0         not_apply  not_apply            not_apply         not_apply   \n",
       "1         not_apply  not_apply            not_apply         not_apply   \n",
       "2         not_apply  not_apply            not_apply         not_apply   \n",
       "3         not_apply  not_apply            not_apply         not_apply   \n",
       "4         not_apply  not_apply            not_apply         not_apply   \n",
       "\n",
       "  additionalstotals additionalsminbasketamount minnoofitemsoffered   itemtype  \n",
       "0         not_apply                  not_apply           not_apply  not_apply  \n",
       "1         not_apply                  not_apply           not_apply  not_apply  \n",
       "2         not_apply                  not_apply           not_apply  not_apply  \n",
       "3         not_apply                  not_apply           not_apply  not_apply  \n",
       "4         not_apply                  not_apply           not_apply  not_apply  \n",
       "\n",
       "[5 rows x 42 columns]"
      ]
     },
     "execution_count": 1,
     "metadata": {},
     "output_type": "execute_result"
    }
   ],
   "source": [
    "import pandas as pd\n",
    "df = pd.read_csv(\"promo_full.csv\").drop(columns=['Unnamed: 0'])\n",
    "df.head()"
   ]
  },
  {
   "cell_type": "code",
   "execution_count": 2,
   "id": "5a395d38",
   "metadata": {},
   "outputs": [
    {
     "data": {
      "text/plain": [
       "['additionalstotals',\n",
       " 'rewardtype',\n",
       " 'additionalscoupon',\n",
       " 'additionalrestrictions',\n",
       " 'promotionenddate',\n",
       " 'additionalsminbasketamount',\n",
       " 'priceupdatedate',\n",
       " 'remark',\n",
       " 'remarks',\n",
       " 'additionalsgiftcount',\n",
       " 'discountrate']"
      ]
     },
     "execution_count": 2,
     "metadata": {},
     "output_type": "execute_result"
    }
   ],
   "source": [
    "all_columns = list(df.columns)\n",
    "\n",
    "ignore = ['bikoretno']\n",
    "\n",
    "index = [\n",
    "    'promotionupdatedate', # שעת עדכון המבצע בנוגע למוצר\n",
    "    'itemcode','promotionitems', # מספר הברקוד של המצרך\n",
    "    'itemtype' #  האם ברקוד פנימי\n",
    "]\n",
    "flag_columns = [\n",
    "    'isgiftitem',\n",
    "    'isweightedpromo',\n",
    "    'allowmultiplediscounts' # כפל מבצעים\n",
    "]\n",
    "\n",
    "promo_columns = [\n",
    "    'promotionid', # מזהה מבצע\n",
    "    'discountedprice','discountrate' # שיעור ההנחה\n",
    "    'promotionenddate','promotionendhour', # סוף המבצע\n",
    "    'promotionstartdate','promotionstarthour', # התחלת המבצע\n",
    "    'discountedpricepermida',\n",
    "    'discounttype',\n",
    "    'promotiondescription','promotiondetails', # תיאור המבצע\n",
    "    'giftsitems',\n",
    "]\n",
    "\n",
    "store_columns = [\n",
    "    'file_id', # קובץ מקור\n",
    "    'chainid', # קוד הרשת\n",
    "    'subchainid', # קוד תת-רשת\n",
    "    'storeid', # מספר החנות\n",
    "]\n",
    "quntity_columns = [\n",
    "    'weightunit',\n",
    "    'minqty',\n",
    "    'maxqty',       \n",
    "]\n",
    "deal_condition = [\n",
    "    'minnoofitemsoffered','minnoofitemofered',  # כמות מזערית להשתתפות במבצע\n",
    "    'minpurchaseamnt','minpurchaseamount' # סכום הרכישה המזערי\n",
    "]\n",
    "\n",
    "customer_with_deal = [\n",
    "    'clubid',\n",
    "    'clubs'\n",
    "]\n",
    "\n",
    "rest = list(set(all_columns) - set(index+promo_columns+deal_condition+ignore+store_columns+quntity_columns+customer_with_deal+promo_columns+flag_columns))\n",
    "rest"
   ]
  },
  {
   "cell_type": "markdown",
   "id": "c930f535",
   "metadata": {},
   "source": [
    "# Index columns"
   ]
  },
  {
   "cell_type": "code",
   "execution_count": 3,
   "id": "6be574ae",
   "metadata": {},
   "outputs": [
    {
     "data": {
      "text/plain": [
       "['promotionupdatedate', 'itemcode', 'promotionitems', 'itemtype']"
      ]
     },
     "execution_count": 3,
     "metadata": {},
     "output_type": "execute_result"
    }
   ],
   "source": [
    "index"
   ]
  },
  {
   "cell_type": "code",
   "execution_count": 4,
   "id": "24f68490",
   "metadata": {},
   "outputs": [
    {
     "data": {
      "text/plain": [
       "True"
      ]
     },
     "execution_count": 4,
     "metadata": {},
     "output_type": "execute_result"
    }
   ],
   "source": [
    "df['promotionupdatedate'] = pd.to_datetime(df['promotionupdatedate'],errors='coerce')\n",
    "df['promotionupdatedate'].isna().any() # :("
   ]
  },
  {
   "cell_type": "code",
   "execution_count": 5,
   "id": "c82a8207",
   "metadata": {},
   "outputs": [
    {
     "data": {
      "text/html": [
       "<div>\n",
       "<style scoped>\n",
       "    .dataframe tbody tr th:only-of-type {\n",
       "        vertical-align: middle;\n",
       "    }\n",
       "\n",
       "    .dataframe tbody tr th {\n",
       "        vertical-align: top;\n",
       "    }\n",
       "\n",
       "    .dataframe thead th {\n",
       "        text-align: right;\n",
       "    }\n",
       "</style>\n",
       "<table border=\"1\" class=\"dataframe\">\n",
       "  <thead>\n",
       "    <tr style=\"text-align: right;\">\n",
       "      <th></th>\n",
       "      <th>file_id</th>\n",
       "      <th>chainid</th>\n",
       "      <th>subchainid</th>\n",
       "      <th>storeid</th>\n",
       "      <th>bikoretno</th>\n",
       "      <th>priceupdatedate</th>\n",
       "      <th>itemcode</th>\n",
       "      <th>isgiftitem</th>\n",
       "      <th>rewardtype</th>\n",
       "      <th>allowmultiplediscounts</th>\n",
       "      <th>...</th>\n",
       "      <th>remark</th>\n",
       "      <th>giftsitems</th>\n",
       "      <th>additionalscoupon</th>\n",
       "      <th>clubid</th>\n",
       "      <th>additionalsgiftcount</th>\n",
       "      <th>minpurchaseamount</th>\n",
       "      <th>additionalstotals</th>\n",
       "      <th>additionalsminbasketamount</th>\n",
       "      <th>minnoofitemsoffered</th>\n",
       "      <th>itemtype</th>\n",
       "    </tr>\n",
       "  </thead>\n",
       "  <tbody>\n",
       "    <tr>\n",
       "      <th>0</th>\n",
       "      <td>samples_promo_full/Super-Pharm/PromoFull729017...</td>\n",
       "      <td>7290172900007</td>\n",
       "      <td>100</td>\n",
       "      <td>311</td>\n",
       "      <td>100</td>\n",
       "      <td>2022-10-03</td>\n",
       "      <td>8714789177229</td>\n",
       "      <td>0</td>\n",
       "      <td>3</td>\n",
       "      <td>1</td>\n",
       "      <td>...</td>\n",
       "      <td>not_apply</td>\n",
       "      <td>not_apply</td>\n",
       "      <td>not_apply</td>\n",
       "      <td>not_apply</td>\n",
       "      <td>not_apply</td>\n",
       "      <td>not_apply</td>\n",
       "      <td>not_apply</td>\n",
       "      <td>not_apply</td>\n",
       "      <td>not_apply</td>\n",
       "      <td>not_apply</td>\n",
       "    </tr>\n",
       "    <tr>\n",
       "      <th>1</th>\n",
       "      <td>samples_promo_full/Super-Pharm/PromoFull729017...</td>\n",
       "      <td>7290172900007</td>\n",
       "      <td>100</td>\n",
       "      <td>311</td>\n",
       "      <td>100</td>\n",
       "      <td>2022-10-13</td>\n",
       "      <td>7290112490896</td>\n",
       "      <td>0</td>\n",
       "      <td>3</td>\n",
       "      <td>1</td>\n",
       "      <td>...</td>\n",
       "      <td>not_apply</td>\n",
       "      <td>not_apply</td>\n",
       "      <td>not_apply</td>\n",
       "      <td>not_apply</td>\n",
       "      <td>not_apply</td>\n",
       "      <td>not_apply</td>\n",
       "      <td>not_apply</td>\n",
       "      <td>not_apply</td>\n",
       "      <td>not_apply</td>\n",
       "      <td>not_apply</td>\n",
       "    </tr>\n",
       "    <tr>\n",
       "      <th>2</th>\n",
       "      <td>samples_promo_full/Super-Pharm/PromoFull729017...</td>\n",
       "      <td>7290172900007</td>\n",
       "      <td>100</td>\n",
       "      <td>311</td>\n",
       "      <td>100</td>\n",
       "      <td>2022-10-13</td>\n",
       "      <td>7290101864127</td>\n",
       "      <td>0</td>\n",
       "      <td>3</td>\n",
       "      <td>1</td>\n",
       "      <td>...</td>\n",
       "      <td>not_apply</td>\n",
       "      <td>not_apply</td>\n",
       "      <td>not_apply</td>\n",
       "      <td>not_apply</td>\n",
       "      <td>not_apply</td>\n",
       "      <td>not_apply</td>\n",
       "      <td>not_apply</td>\n",
       "      <td>not_apply</td>\n",
       "      <td>not_apply</td>\n",
       "      <td>not_apply</td>\n",
       "    </tr>\n",
       "    <tr>\n",
       "      <th>3</th>\n",
       "      <td>samples_promo_full/Super-Pharm/PromoFull729017...</td>\n",
       "      <td>7290172900007</td>\n",
       "      <td>100</td>\n",
       "      <td>311</td>\n",
       "      <td>100</td>\n",
       "      <td>2022-10-13</td>\n",
       "      <td>7290012116735</td>\n",
       "      <td>0</td>\n",
       "      <td>3</td>\n",
       "      <td>1</td>\n",
       "      <td>...</td>\n",
       "      <td>not_apply</td>\n",
       "      <td>not_apply</td>\n",
       "      <td>not_apply</td>\n",
       "      <td>not_apply</td>\n",
       "      <td>not_apply</td>\n",
       "      <td>not_apply</td>\n",
       "      <td>not_apply</td>\n",
       "      <td>not_apply</td>\n",
       "      <td>not_apply</td>\n",
       "      <td>not_apply</td>\n",
       "    </tr>\n",
       "    <tr>\n",
       "      <th>4</th>\n",
       "      <td>samples_promo_full/Super-Pharm/PromoFull729017...</td>\n",
       "      <td>7290172900007</td>\n",
       "      <td>100</td>\n",
       "      <td>311</td>\n",
       "      <td>100</td>\n",
       "      <td>2022-10-13</td>\n",
       "      <td>8690637704291</td>\n",
       "      <td>0</td>\n",
       "      <td>3</td>\n",
       "      <td>1</td>\n",
       "      <td>...</td>\n",
       "      <td>not_apply</td>\n",
       "      <td>not_apply</td>\n",
       "      <td>not_apply</td>\n",
       "      <td>not_apply</td>\n",
       "      <td>not_apply</td>\n",
       "      <td>not_apply</td>\n",
       "      <td>not_apply</td>\n",
       "      <td>not_apply</td>\n",
       "      <td>not_apply</td>\n",
       "      <td>not_apply</td>\n",
       "    </tr>\n",
       "  </tbody>\n",
       "</table>\n",
       "<p>5 rows × 42 columns</p>\n",
       "</div>"
      ],
      "text/plain": [
       "                                             file_id        chainid  \\\n",
       "0  samples_promo_full/Super-Pharm/PromoFull729017...  7290172900007   \n",
       "1  samples_promo_full/Super-Pharm/PromoFull729017...  7290172900007   \n",
       "2  samples_promo_full/Super-Pharm/PromoFull729017...  7290172900007   \n",
       "3  samples_promo_full/Super-Pharm/PromoFull729017...  7290172900007   \n",
       "4  samples_promo_full/Super-Pharm/PromoFull729017...  7290172900007   \n",
       "\n",
       "   subchainid  storeid  bikoretno priceupdatedate       itemcode isgiftitem  \\\n",
       "0         100      311        100      2022-10-03  8714789177229          0   \n",
       "1         100      311        100      2022-10-13  7290112490896          0   \n",
       "2         100      311        100      2022-10-13  7290101864127          0   \n",
       "3         100      311        100      2022-10-13  7290012116735          0   \n",
       "4         100      311        100      2022-10-13  8690637704291          0   \n",
       "\n",
       "   rewardtype  allowmultiplediscounts  ...     remark giftsitems  \\\n",
       "0           3                       1  ...  not_apply  not_apply   \n",
       "1           3                       1  ...  not_apply  not_apply   \n",
       "2           3                       1  ...  not_apply  not_apply   \n",
       "3           3                       1  ...  not_apply  not_apply   \n",
       "4           3                       1  ...  not_apply  not_apply   \n",
       "\n",
       "  additionalscoupon     clubid additionalsgiftcount minpurchaseamount  \\\n",
       "0         not_apply  not_apply            not_apply         not_apply   \n",
       "1         not_apply  not_apply            not_apply         not_apply   \n",
       "2         not_apply  not_apply            not_apply         not_apply   \n",
       "3         not_apply  not_apply            not_apply         not_apply   \n",
       "4         not_apply  not_apply            not_apply         not_apply   \n",
       "\n",
       "  additionalstotals additionalsminbasketamount minnoofitemsoffered   itemtype  \n",
       "0         not_apply                  not_apply           not_apply  not_apply  \n",
       "1         not_apply                  not_apply           not_apply  not_apply  \n",
       "2         not_apply                  not_apply           not_apply  not_apply  \n",
       "3         not_apply                  not_apply           not_apply  not_apply  \n",
       "4         not_apply                  not_apply           not_apply  not_apply  \n",
       "\n",
       "[5 rows x 42 columns]"
      ]
     },
     "execution_count": 5,
     "metadata": {},
     "output_type": "execute_result"
    }
   ],
   "source": [
    "recoreds_without_promotionupdatedate = df[df.promotionupdatedate.isna()]\n",
    "recoreds_without_promotionupdatedate.head()"
   ]
  },
  {
   "cell_type": "code",
   "execution_count": 6,
   "id": "a2efa170",
   "metadata": {},
   "outputs": [
    {
     "data": {
      "text/plain": [
       "array([7290172900007, 7290875100001, 7290696200003])"
      ]
     },
     "execution_count": 6,
     "metadata": {},
     "output_type": "execute_result"
    }
   ],
   "source": [
    "df[df['promotionupdatedate'].isna()]['chainid'].unique()\n",
    "# TODO: explain why those supermarket are not used."
   ]
  },
  {
   "cell_type": "code",
   "execution_count": 7,
   "id": "4acb8796",
   "metadata": {},
   "outputs": [
    {
     "data": {
      "text/plain": [
       "{'file_id': 'samples_promo_full/Netiv Hasef/PromoFull7290058160839-017-202210200544.xml',\n",
       " 'chainid': 7290058160839,\n",
       " 'subchainid': 1,\n",
       " 'storeid': 303,\n",
       " 'bikoretno': 0,\n",
       " 'priceupdatedate': 'not_apply',\n",
       " 'itemcode': 'not_apply',\n",
       " 'isgiftitem': 'not_apply',\n",
       " 'rewardtype': 1,\n",
       " 'allowmultiplediscounts': 0,\n",
       " 'promotionid': 1000010939,\n",
       " 'promotiondetails': 'not_apply',\n",
       " 'additionalrestrictions': \"{'AdditionalGiftCount': '0', 'AdditionalIsActive': '1', 'AdditionalIsCoupon': '0', 'AdditionalIsTotal': '0', 'Clubs': ['1']}\",\n",
       " 'clubs': 'not_apply',\n",
       " 'discountrate': '0',\n",
       " 'discounttype': '1',\n",
       " 'minqty': '1',\n",
       " 'promotiondescription': \"9.9 צלחות גדולות לקסוס  10 יח'\",\n",
       " 'weightunit': 'not_apply',\n",
       " 'promotionstarthour': '00:00:00',\n",
       " 'promotionupdatedate': Timestamp('2022-09-14 09:48:00'),\n",
       " 'minnoofitemofered': '10',\n",
       " 'promotionendhour': '23:59:00',\n",
       " 'isweightedpromo': 'not_apply',\n",
       " 'promotionitems': \"[{'IsGiftItem': '0', 'ItemCode': '7290018846797', 'ItemType': '1'}]\",\n",
       " 'promotionenddate': '2022-10-28',\n",
       " 'promotionstartdate': '2022-09-13',\n",
       " 'discountedpricepermida': '9.9',\n",
       " 'discountedprice': '9.9',\n",
       " 'minpurchaseamnt': 'not_apply',\n",
       " 'maxqty': '0',\n",
       " 'remarks': 'צלחות גדולות לקסוס  ',\n",
       " 'remark': 'not_apply',\n",
       " 'giftsitems': 'not_apply',\n",
       " 'additionalscoupon': 'not_apply',\n",
       " 'clubid': 'not_apply',\n",
       " 'additionalsgiftcount': 'not_apply',\n",
       " 'minpurchaseamount': 'not_apply',\n",
       " 'additionalstotals': 'not_apply',\n",
       " 'additionalsminbasketamount': 'not_apply',\n",
       " 'minnoofitemsoffered': 'not_apply',\n",
       " 'itemtype': 'not_apply'}"
      ]
     },
     "execution_count": 7,
     "metadata": {},
     "output_type": "execute_result"
    }
   ],
   "source": [
    "def is_number(x):\n",
    "    try:\n",
    "        return int(x)\n",
    "    except:\n",
    "        return None\n",
    "\n",
    "df[df.itemcode.apply(is_number).isna()].sample(1).iloc[0].to_dict()\n",
    "# if 'itemcode' is nan, 'promotionitems' contains multiple items."
   ]
  },
  {
   "cell_type": "code",
   "execution_count": 26,
   "id": "741117ac",
   "metadata": {},
   "outputs": [],
   "source": [
    "# promotionitems\n",
    "import json\n",
    "def parse_json(x):\n",
    "    if x in ['not_apply','NO-CONTENT']:\n",
    "        return []\n",
    "    return json.loads(x.replace(\"'\",\"\\\"\"))\n",
    "\n",
    "df.promotionitems = df.promotionitems.apply(parse_json)"
   ]
  },
  {
   "cell_type": "code",
   "execution_count": 9,
   "id": "815eadee",
   "metadata": {},
   "outputs": [],
   "source": [
    "assert df[df.promotionitems.apply(len) == 0 ^ ~df.itemcode.apply(is_number).isna()].empty, \"assuming item code are nested inside promotionitems\""
   ]
  },
  {
   "cell_type": "code",
   "execution_count": 10,
   "id": "306ae8fc",
   "metadata": {},
   "outputs": [],
   "source": [
    "from ast import literal_eval\n",
    "\n",
    "df = df.explode('promotionitems')\n",
    "df = df.join(pd.json_normalize(df.pop('promotionitems')),rsuffix=\"_\")"
   ]
  },
  {
   "cell_type": "code",
   "execution_count": 11,
   "id": "050f52c2",
   "metadata": {},
   "outputs": [],
   "source": [
    "df.loc[~df['ItemCode'].isna(),'itemcode'] = df.loc[~df['ItemCode'].isna(),'ItemCode']\n",
    "df.loc[~df['ItemType'].isna(),'itemtype'] = df.loc[~df['ItemType'].isna(),'ItemType']\n",
    "df.loc[~df['GiftItemPrice'].isna(),'giftitemprice'] = df.loc[~df['GiftItemPrice'].isna(),'GiftItemPrice']\n",
    "\n"
   ]
  },
  {
   "cell_type": "code",
   "execution_count": 12,
   "id": "73a8f2a9",
   "metadata": {},
   "outputs": [],
   "source": [
    "assert ~df.itemcode.apply(is_number).isna().any(), \"mark sure it not nan\"\n",
    "\n",
    "df = df.drop(columns=['GiftItemPrice','ItemType','ItemCode'])"
   ]
  },
  {
   "cell_type": "code",
   "execution_count": 13,
   "id": "3cc951df",
   "metadata": {},
   "outputs": [],
   "source": [
    "# itemtype"
   ]
  },
  {
   "cell_type": "code",
   "execution_count": 14,
   "id": "14cc8772",
   "metadata": {},
   "outputs": [
    {
     "data": {
      "text/plain": [
       "1            20033180\n",
       "not_apply       38479\n",
       "Name: itemtype, dtype: int64"
      ]
     },
     "execution_count": 14,
     "metadata": {},
     "output_type": "execute_result"
    }
   ],
   "source": [
    "df.itemtype.value_counts()"
   ]
  },
  {
   "cell_type": "code",
   "execution_count": 15,
   "id": "90395f3a",
   "metadata": {},
   "outputs": [
    {
     "data": {
      "text/plain": [
       "chainid\n",
       "7290027600007            [1]\n",
       "7290055700014            [1]\n",
       "7290058108879            [1]\n",
       "7290058134977            [1]\n",
       "7290058140886            [1]\n",
       "7290058159628            [1]\n",
       "7290058160839            [1]\n",
       "7290058173198            [1]\n",
       "7290058197699            [1]\n",
       "7290058198450            [1]\n",
       "7290103152017            [1]\n",
       "7290172900007    [not_apply]\n",
       "7290492000005            [1]\n",
       "7290526500006            [1]\n",
       "7290639000004            [1]\n",
       "7290644700005            [1]\n",
       "7290696200003            [1]\n",
       "7290700100008            [1]\n",
       "7290725900003            [1]\n",
       "7290785400000            [1]\n",
       "7290803800003            [1]\n",
       "7290873255550            [1]\n",
       "7290875100001            [1]\n",
       "7290876100000            [1]\n",
       "7291056200008            [1]\n",
       "7291059100008            [1]\n",
       "Name: itemtype, dtype: object"
      ]
     },
     "execution_count": 15,
     "metadata": {},
     "output_type": "execute_result"
    }
   ],
   "source": [
    "df.groupby('chainid')['itemtype'].unique()\n",
    "# 'itemtype', '7290172900007' is the only one that doesn't use it"
   ]
  },
  {
   "cell_type": "code",
   "execution_count": 16,
   "id": "c171c636",
   "metadata": {},
   "outputs": [],
   "source": [
    "df['itemtype'] = df['itemtype'].replace('not_apply','not_clear')"
   ]
  },
  {
   "cell_type": "code",
   "execution_count": 17,
   "id": "569fb8e2",
   "metadata": {},
   "outputs": [
    {
     "data": {
      "text/plain": [
       "array(['not_clear', '1'], dtype=object)"
      ]
     },
     "execution_count": 17,
     "metadata": {},
     "output_type": "execute_result"
    }
   ],
   "source": [
    "df['itemtype'].unique()"
   ]
  },
  {
   "cell_type": "markdown",
   "id": "65e64a4b",
   "metadata": {},
   "source": [
    "# flag columns"
   ]
  },
  {
   "cell_type": "code",
   "execution_count": 18,
   "id": "d4963dd6",
   "metadata": {},
   "outputs": [
    {
     "data": {
      "text/plain": [
       "['isgiftitem', 'isweightedpromo', 'allowmultiplediscounts']"
      ]
     },
     "execution_count": 18,
     "metadata": {},
     "output_type": "execute_result"
    }
   ],
   "source": [
    "flag_columns"
   ]
  },
  {
   "cell_type": "code",
   "execution_count": 79,
   "id": "98c30143",
   "metadata": {},
   "outputs": [],
   "source": [
    "# allowmultiplediscounts"
   ]
  },
  {
   "cell_type": "code",
   "execution_count": 80,
   "id": "3b12cf09",
   "metadata": {},
   "outputs": [
    {
     "data": {
      "text/plain": [
       "array([1, 0])"
      ]
     },
     "execution_count": 80,
     "metadata": {},
     "output_type": "execute_result"
    }
   ],
   "source": [
    "df.allowmultiplediscounts.unique()"
   ]
  },
  {
   "cell_type": "code",
   "execution_count": 81,
   "id": "e0d4939a",
   "metadata": {},
   "outputs": [],
   "source": [
    "df.allowmultiplediscounts = df.allowmultiplediscounts.astype(bool)"
   ]
  },
  {
   "cell_type": "code",
   "execution_count": null,
   "id": "f3efd5a4",
   "metadata": {},
   "outputs": [],
   "source": [
    "# isweightedpromo"
   ]
  },
  {
   "cell_type": "code",
   "execution_count": 85,
   "id": "d9b9caf4",
   "metadata": {},
   "outputs": [
    {
     "data": {
      "text/plain": [
       "array([-1,  0,  1])"
      ]
     },
     "execution_count": 85,
     "metadata": {},
     "output_type": "execute_result"
    }
   ],
   "source": [
    "df.isweightedpromo = df.isweightedpromo.replace('not_apply',-1).astype(int)\n",
    "df.isweightedpromo.unique()"
   ]
  },
  {
   "cell_type": "code",
   "execution_count": 102,
   "id": "cafd7534",
   "metadata": {},
   "outputs": [
    {
     "data": {
      "text/plain": [
       "<AxesSubplot: >"
      ]
     },
     "execution_count": 102,
     "metadata": {},
     "output_type": "execute_result"
    },
    {
     "data": {
      "image/png": "[encoded data removed]",
      "text/plain": [
       "<Figure size 640x480 with 2 Axes>"
      ]
     },
     "metadata": {},
     "output_type": "display_data"
    }
   ],
   "source": [
    "import seaborn as sns\n",
    "sns.heatmap(df[df.isweightedpromo == 1].describe() - df[df.isweightedpromo != 1].describe())"
   ]
  },
  {
   "cell_type": "code",
   "execution_count": 69,
   "id": "de0eceb0",
   "metadata": {},
   "outputs": [
    {
     "data": {
      "text/plain": [
       "array([0, 1, '0', '1', 'not_apply'], dtype=object)"
      ]
     },
     "execution_count": 69,
     "metadata": {},
     "output_type": "execute_result"
    }
   ],
   "source": [
    "# isgiftitem\n",
    "df.isgiftitem.unique()"
   ]
  },
  {
   "cell_type": "code",
   "execution_count": 70,
   "id": "bf546bcc",
   "metadata": {},
   "outputs": [
    {
     "data": {
      "text/plain": [
       "array([7290058140886, 7291059100008, 7290058134977, 7290873255550,\n",
       "       7290027600007, 7290058173198, 7290725900003, 7290876100000,\n",
       "       7290103152017, 7290058197699, 7290058108879, 7291056200008,\n",
       "       7290639000004, 7290803800003, 7290526500006, 7290058198450,\n",
       "       7290058160839, 7290058159628, 7290055700014, 7290644700005,\n",
       "       7290492000005, 7290700100008, 7290785400000])"
      ]
     },
     "execution_count": 70,
     "metadata": {},
     "output_type": "execute_result"
    }
   ],
   "source": [
    "# seem like alot of supermarkets using 'not_apply' which mean this is a valid setup.\n",
    "df[df.isgiftitem == 'not_apply'].chainid.unique() \n",
    "\n",
    "# theroy: [0,'not_apply'] -> giftsitems column empty\n",
    "#         [1] -> giftsitems contains the gifts"
   ]
  },
  {
   "cell_type": "code",
   "execution_count": 73,
   "id": "a3aaac94",
   "metadata": {},
   "outputs": [
    {
     "data": {
      "text/plain": [
       "array(['not_apply'], dtype=object)"
      ]
     },
     "execution_count": 73,
     "metadata": {},
     "output_type": "execute_result"
    }
   ],
   "source": [
    "gifts = df[df.isgiftitem.isin([1,'1'])]\n",
    "gifts.giftsitems.unique()"
   ]
  },
  {
   "cell_type": "code",
   "execution_count": 76,
   "id": "6d802d60",
   "metadata": {},
   "outputs": [
    {
     "data": {
      "text/plain": [
       "file_id                       samples_promo_full/mahsani a shuk/PromoFull729...\n",
       "chainid                                                           7290696200003\n",
       "subchainid                                                                    0\n",
       "storeid                                                                     211\n",
       "bikoretno                                                                     0\n",
       "priceupdatedate                                             2022-10-19 16:11:30\n",
       "itemcode                                                           859966003040\n",
       "isgiftitem                                                                    1\n",
       "rewardtype                                                                    7\n",
       "allowmultiplediscounts                                                        0\n",
       "promotionid                                                              152840\n",
       "promotiondetails                                                      not_apply\n",
       "additionalrestrictions                                               NO-CONTENT\n",
       "clubs                                                                 not_apply\n",
       "discountrate                                                                100\n",
       "discounttype                                                                  0\n",
       "minqty                                                                        4\n",
       "promotiondescription                       *ק/פסטה/רוטב ברילה 3+1 הזול המשתתפים\n",
       "weightunit                                                            not_apply\n",
       "promotionstarthour                                                     06:00:00\n",
       "promotionupdatedate                                                         NaT\n",
       "minnoofitemofered                                                     not_apply\n",
       "promotionendhour                                                       23:59:59\n",
       "isweightedpromo                                                       not_apply\n",
       "promotionenddate                                                     2022/10/28\n",
       "promotionstartdate                                                   2022/10/18\n",
       "discountedpricepermida                                                        0\n",
       "discountedprice                                                               0\n",
       "minpurchaseamnt                                                       not_apply\n",
       "maxqty                                                                        0\n",
       "remarks                                                                        \n",
       "remark                                                                not_apply\n",
       "giftsitems                                                            not_apply\n",
       "additionalscoupon                                                    NO-CONTENT\n",
       "clubid                                                                        0\n",
       "additionalsgiftcount                                                          1\n",
       "minpurchaseamount                                                             0\n",
       "additionalstotals                                                    NO-CONTENT\n",
       "additionalsminbasketamount                                           NO-CONTENT\n",
       "minnoofitemsoffered                                                           0\n",
       "itemtype                                                                      1\n",
       "IsGiftItem                                                                    0\n",
       "giftitemprice                                                               NaN\n",
       "Name: 221341, dtype: object"
      ]
     },
     "execution_count": 76,
     "metadata": {},
     "output_type": "execute_result"
    }
   ],
   "source": [
    "gifts.sample(1).iloc[0]"
   ]
  },
  {
   "cell_type": "code",
   "execution_count": 77,
   "id": "5d0aaf1a",
   "metadata": {},
   "outputs": [
    {
     "data": {
      "text/plain": [
       "array(['not_apply'], dtype=object)"
      ]
     },
     "execution_count": 77,
     "metadata": {},
     "output_type": "execute_result"
    }
   ],
   "source": [
    "not_gifts = df[df.isgiftitem.isin([0,'0'])]\n",
    "not_gifts.giftsitems.unique()"
   ]
  },
  {
   "cell_type": "code",
   "execution_count": 78,
   "id": "b8d5e06c",
   "metadata": {},
   "outputs": [
    {
     "data": {
      "text/plain": [
       "file_id                       samples_promo_full/mahsani a shuk/PromoFull729...\n",
       "chainid                                                           7290696200003\n",
       "subchainid                                                                    0\n",
       "storeid                                                                      98\n",
       "bikoretno                                                                     0\n",
       "priceupdatedate                                             2022-10-19 14:14:54\n",
       "itemcode                                                          7290000288017\n",
       "isgiftitem                                                                    0\n",
       "rewardtype                                                                   10\n",
       "allowmultiplediscounts                                                        0\n",
       "promotionid                                                              300497\n",
       "promotiondetails                                                      not_apply\n",
       "additionalrestrictions                                               NO-CONTENT\n",
       "clubs                                                                 not_apply\n",
       "discountrate                                                               1.65\n",
       "discounttype                                                                  1\n",
       "minqty                                                                        2\n",
       "promotiondescription                                   קורני חטיפי בריאות 2ב20ש\n",
       "weightunit                                                            not_apply\n",
       "promotionstarthour                                                     06:00:00\n",
       "promotionupdatedate                                                         NaT\n",
       "minnoofitemofered                                                     not_apply\n",
       "promotionendhour                                                       23:00:00\n",
       "isweightedpromo                                                       not_apply\n",
       "promotionenddate                                                     2022/10/29\n",
       "promotionstartdate                                                   2022/09/04\n",
       "discountedpricepermida                                                     5.70\n",
       "discountedprice                                                           17.10\n",
       "minpurchaseamnt                                                       not_apply\n",
       "maxqty                                                                        0\n",
       "remarks                                                                        \n",
       "remark                                                                not_apply\n",
       "giftsitems                                                            not_apply\n",
       "additionalscoupon                                                    NO-CONTENT\n",
       "clubid                                                                        0\n",
       "additionalsgiftcount                                                          1\n",
       "minpurchaseamount                                                             0\n",
       "additionalstotals                                                    NO-CONTENT\n",
       "additionalsminbasketamount                                           NO-CONTENT\n",
       "minnoofitemsoffered                                                           0\n",
       "itemtype                                                                      1\n",
       "IsGiftItem                                                                    0\n",
       "giftitemprice                                                               NaN\n",
       "Name: 228271, dtype: object"
      ]
     },
     "execution_count": 78,
     "metadata": {},
     "output_type": "execute_result"
    }
   ],
   "source": [
    "not_gifts.sample(1).iloc[0]"
   ]
  },
  {
   "cell_type": "code",
   "execution_count": 74,
   "id": "fdd3d286",
   "metadata": {},
   "outputs": [
    {
     "data": {
      "text/plain": [
       "array(['not_apply', 'NO-CONTENT',\n",
       "       \"[{'IsGiftItem': '1', 'ItemCode': '7290018608272', 'ItemType': '1'}, {'IsGiftItem': '1', 'ItemCode': '7290018608289', 'ItemType': '1'}, {'IsGiftItem': '1', 'ItemCode': '7290018608296', 'ItemType': '1'}, {'IsGiftItem': '1', 'ItemCode': '7290018608302', 'ItemType': '1'}, {'IsGiftItem': '1', 'ItemCode': '7290018608319', 'ItemType': '1'}, {'IsGiftItem': '1', 'ItemCode': '7290018608326', 'ItemType': '1'}, {'IsGiftItem': '1', 'ItemCode': '7290018608456', 'ItemType': '1'}, {'IsGiftItem': '1', 'ItemCode': '7290018608463', 'ItemType': '1'}, {'IsGiftItem': '1', 'ItemCode': '7290018608470', 'ItemType': '1'}]\",\n",
       "       \"[{'IsGiftItem': '1', 'ItemCode': '7290017470436', 'ItemType': '1'}, {'IsGiftItem': '1', 'ItemCode': '7290017470443', 'ItemType': '1'}, {'IsGiftItem': '1', 'ItemCode': '7290017470610', 'ItemType': '1'}, {'IsGiftItem': '1', 'ItemCode': '7290017470627', 'ItemType': '1'}, {'IsGiftItem': '1', 'ItemCode': '7290017470634', 'ItemType': '1'}, {'IsGiftItem': '1', 'ItemCode': '7290017470641', 'ItemType': '1'}]\",\n",
       "       \"[{'IsGiftItem': '1', 'ItemCode': '7290016102345', 'ItemType': '1'}]\",\n",
       "       \"[{'IsGiftItem': '1', 'ItemCode': '7290018045084', 'ItemType': '1'}, {'IsGiftItem': '1', 'ItemCode': '7290018045497', 'ItemType': '1'}, {'IsGiftItem': '1', 'ItemCode': '7290018045695', 'ItemType': '1'}, {'IsGiftItem': '1', 'ItemCode': '7290018045893', 'ItemType': '1'}]\",\n",
       "       \"[{'IsGiftItem': '1', 'ItemCode': '7290101551027', 'ItemType': '1'}, {'IsGiftItem': '1', 'ItemCode': '7290105360250', 'ItemType': '1'}, {'IsGiftItem': '1', 'ItemCode': '7290105360328', 'ItemType': '1'}, {'IsGiftItem': '1', 'ItemCode': '7290105360335', 'ItemType': '1'}, {'IsGiftItem': '1', 'ItemCode': '7290106525399', 'ItemType': '1'}, {'IsGiftItem': '1', 'ItemCode': '7290106669857', 'ItemType': '1'}, {'IsGiftItem': '1', 'ItemCode': '7290107937856', 'ItemType': '1'}, {'IsGiftItem': '1', 'ItemCode': '7290107956895', 'ItemType': '1'}, {'IsGiftItem': '1', 'ItemCode': '7290107956901', 'ItemType': '1'}, {'IsGiftItem': '1', 'ItemCode': '7290107956925', 'ItemType': '1'}, {'IsGiftItem': '1', 'ItemCode': '7290107956932', 'ItemType': '1'}, {'IsGiftItem': '1', 'ItemCode': '7290110566623', 'ItemType': '1'}, {'IsGiftItem': '1', 'ItemCode': '7290112350275', 'ItemType': '1'}, {'IsGiftItem': '1', 'ItemCode': '7290112350305', 'ItemType': '1'}, {'IsGiftItem': '1', 'ItemCode': '7290112350312', 'ItemType': '1'}, {'IsGiftItem': '1', 'ItemCode': '7290112357175', 'ItemType': '1'}, {'IsGiftItem': '1', 'ItemCode': '7290112359957', 'ItemType': '1'}]\",\n",
       "       \"[{'IsGiftItem': '1', 'ItemCode': '7290110554798', 'ItemType': '1'}, {'IsGiftItem': '1', 'ItemCode': '7290115671421', 'ItemType': '1'}]\",\n",
       "       \"[{'IsGiftItem': '1', 'ItemCode': '7290112340221', 'ItemType': '1'}, {'IsGiftItem': '1', 'ItemCode': '7290112348142', 'ItemType': '1'}, {'IsGiftItem': '1', 'ItemCode': '7290112357045', 'ItemType': '1'}, {'IsGiftItem': '1', 'ItemCode': '7290112357069', 'ItemType': '1'}, {'IsGiftItem': '1', 'ItemCode': '7290112357076', 'ItemType': '1'}, {'IsGiftItem': '1', 'ItemCode': '7290112357083', 'ItemType': '1'}, {'IsGiftItem': '1', 'ItemCode': '7290112357106', 'ItemType': '1'}, {'IsGiftItem': '1', 'ItemCode': '7290112357113', 'ItemType': '1'}]\",\n",
       "       \"[{'IsGiftItem': '1', 'ItemCode': '7290008645935', 'ItemType': '1'}, {'IsGiftItem': '1', 'ItemCode': '7290104061417', 'ItemType': '1'}, {'IsGiftItem': '1', 'ItemCode': '7290104061424', 'ItemType': '1'}, {'IsGiftItem': '1', 'ItemCode': '7290104061431', 'ItemType': '1'}, {'IsGiftItem': '1', 'ItemCode': '7290104061448', 'ItemType': '1'}, {'IsGiftItem': '1', 'ItemCode': '7290104067679', 'ItemType': '1'}, {'IsGiftItem': '1', 'ItemCode': '7290105368225', 'ItemType': '1'}, {'IsGiftItem': '1', 'ItemCode': '7290105962980', 'ItemType': '1'}, {'IsGiftItem': '1', 'ItemCode': '7290105962997', 'ItemType': '1'}, {'IsGiftItem': '1', 'ItemCode': '7290105963000', 'ItemType': '1'}, {'IsGiftItem': '1', 'ItemCode': '7290106728394', 'ItemType': '1'}, {'IsGiftItem': '1', 'ItemCode': '7290107950923', 'ItemType': '1'}]\",\n",
       "       \"[{'IsGiftItem': '1', 'ItemCode': '7290107957991', 'ItemType': '1'}, {'IsGiftItem': '1', 'ItemCode': '7290112347367', 'ItemType': '1'}, {'IsGiftItem': '1', 'ItemCode': '7290112348159', 'ItemType': '1'}, {'IsGiftItem': '1', 'ItemCode': '7290112348937', 'ItemType': '1'}, {'IsGiftItem': '1', 'ItemCode': '7290115677805', 'ItemType': '1'}]\",\n",
       "       \"[{'IsGiftItem': '1', 'ItemCode': '7290012372209', 'ItemType': '1'}]\",\n",
       "       \"[{'IsGiftItem': '1', 'ItemCode': '7290018989043', 'ItemType': '1'}]\"],\n",
       "      dtype=object)"
      ]
     },
     "execution_count": 74,
     "metadata": {},
     "output_type": "execute_result"
    }
   ],
   "source": [
    "rest_gift = df[~df.isgiftitem.isin([0,1,'0','1'])]\n",
    "rest_gift.giftsitems.unique()"
   ]
  },
  {
   "cell_type": "code",
   "execution_count": 29,
   "id": "d93bda9e",
   "metadata": {},
   "outputs": [],
   "source": [
    "giftsitems_not_populated = df[df.giftsitems.isin(['not_apply','NO-CONTENT'])]"
   ]
  },
  {
   "cell_type": "code",
   "execution_count": 30,
   "id": "12d2be01",
   "metadata": {},
   "outputs": [
    {
     "data": {
      "text/plain": [
       "array([0, 1, '0', '1', 'not_apply'], dtype=object)"
      ]
     },
     "execution_count": 30,
     "metadata": {},
     "output_type": "execute_result"
    }
   ],
   "source": [
    "giftsitems_not_populated.isgiftitem.unique()"
   ]
  },
  {
   "cell_type": "code",
   "execution_count": 58,
   "id": "b46d62e0",
   "metadata": {},
   "outputs": [
    {
     "data": {
      "text/plain": [
       "(1440, 43)"
      ]
     },
     "execution_count": 58,
     "metadata": {},
     "output_type": "execute_result"
    }
   ],
   "source": [
    "giftsitems_not_populated[giftsitems_not_populated.isgiftitem.isin([1,'1'])].shape#sample(1).iloc[0]"
   ]
  },
  {
   "cell_type": "code",
   "execution_count": 51,
   "id": "c8bfb2a2",
   "metadata": {},
   "outputs": [],
   "source": [
    "giftsitems_populated = df[~df.index.isin(giftsitems_not_populated.index)]"
   ]
  },
  {
   "cell_type": "code",
   "execution_count": 55,
   "id": "0d7fd745",
   "metadata": {},
   "outputs": [
    {
     "data": {
      "text/plain": [
       "199648    not_apply\n",
       "199648    not_apply\n",
       "199648    not_apply\n",
       "199648    not_apply\n",
       "199648    not_apply\n",
       "            ...    \n",
       "206661    not_apply\n",
       "206661    not_apply\n",
       "206661    not_apply\n",
       "206783    not_apply\n",
       "206830    not_apply\n",
       "Name: isgiftitem, Length: 820, dtype: object"
      ]
     },
     "execution_count": 55,
     "metadata": {},
     "output_type": "execute_result"
    }
   ],
   "source": [
    "giftsitems_populated.giftsitems"
   ]
  },
  {
   "cell_type": "code",
   "execution_count": null,
   "id": "2a8789da",
   "metadata": {},
   "outputs": [],
   "source": []
  },
  {
   "cell_type": "code",
   "execution_count": null,
   "id": "32395e3b",
   "metadata": {},
   "outputs": [],
   "source": []
  },
  {
   "cell_type": "code",
   "execution_count": null,
   "id": "3cead29f",
   "metadata": {},
   "outputs": [],
   "source": []
  },
  {
   "cell_type": "code",
   "execution_count": null,
   "id": "ed554b21",
   "metadata": {},
   "outputs": [],
   "source": []
  },
  {
   "cell_type": "code",
   "execution_count": 99,
   "id": "88d95448",
   "metadata": {},
   "outputs": [
    {
     "name": "stdout",
     "output_type": "stream",
     "text": [
      "Looking in indexes: https://pypi.org/simple, https://ops0-artifactrepo1-0-prd.data.sfdc.net/artifactory/api/pypi/python-certified/simple/\n",
      "Collecting sweetviz\n",
      "  Downloading sweetviz-2.1.4-py3-none-any.whl (15.1 MB)\n",
      "\u001b[2K     \u001b[38;2;114;156;31m━━━━━━━━━━━━━━━━━━━━━━━━━━━━━━━━━━━━━━━━\u001b[0m \u001b[32m15.1/15.1 MB\u001b[0m \u001b[31m9.5 MB/s\u001b[0m eta \u001b[36m0:00:00\u001b[0m0m eta \u001b[36m0:00:01\u001b[0m[36m0:00:01\u001b[0m\n",
      "\u001b[?25hRequirement already satisfied: jinja2>=2.11.1 in ./env/lib/python3.9/site-packages (from sweetviz) (3.1.2)\n",
      "Collecting scipy>=1.3.2\n",
      "  Using cached scipy-1.9.3-cp39-cp39-macosx_10_9_x86_64.whl (34.3 MB)\n",
      "Requirement already satisfied: numpy>=1.16.0 in ./env/lib/python3.9/site-packages (from sweetviz) (1.24.0)\n",
      "Collecting matplotlib>=3.1.3\n",
      "  Downloading matplotlib-3.6.2-cp39-cp39-macosx_10_12_x86_64.whl (7.3 MB)\n",
      "\u001b[2K     \u001b[38;2;114;156;31m━━━━━━━━━━━━━━━━━━━━━━━━━━━━━━━━━━━━━━━━\u001b[0m \u001b[32m7.3/7.3 MB\u001b[0m \u001b[31m10.3 MB/s\u001b[0m eta \u001b[36m0:00:00\u001b[0mm eta \u001b[36m0:00:01\u001b[0m[36m0:00:01\u001b[0m\n",
      "\u001b[?25hRequirement already satisfied: pandas!=1.0.0,!=1.0.1,!=1.0.2,>=0.25.3 in ./env/lib/python3.9/site-packages (from sweetviz) (1.5.2)\n",
      "Collecting importlib-resources>=1.2.0\n",
      "  Downloading importlib_resources-5.10.1-py3-none-any.whl (34 kB)\n",
      "Collecting tqdm>=4.43.0\n",
      "  Using cached tqdm-4.64.1-py2.py3-none-any.whl (78 kB)\n",
      "Requirement already satisfied: zipp>=3.1.0 in ./env/lib/python3.9/site-packages (from importlib-resources>=1.2.0->sweetviz) (3.11.0)\n",
      "Requirement already satisfied: MarkupSafe>=2.0 in ./env/lib/python3.9/site-packages (from jinja2>=2.11.1->sweetviz) (2.1.1)\n",
      "Requirement already satisfied: packaging>=20.0 in ./env/lib/python3.9/site-packages (from matplotlib>=3.1.3->sweetviz) (22.0)\n",
      "Collecting fonttools>=4.22.0\n",
      "  Using cached fonttools-4.38.0-py3-none-any.whl (965 kB)\n",
      "Collecting contourpy>=1.0.1\n",
      "  Downloading contourpy-1.0.6-cp39-cp39-macosx_10_9_x86_64.whl (240 kB)\n",
      "\u001b[2K     \u001b[38;2;114;156;31m━━━━━━━━━━━━━━━━━━━━━━━━━━━━━━━━━━━━━━━\u001b[0m \u001b[32m240.8/240.8 kB\u001b[0m \u001b[31m5.2 MB/s\u001b[0m eta \u001b[36m0:00:00\u001b[0m[36m0:00:01\u001b[0m\n",
      "\u001b[?25hCollecting pillow>=6.2.0\n",
      "  Using cached Pillow-9.3.0-cp39-cp39-macosx_10_10_x86_64.whl (3.3 MB)\n",
      "Collecting pyparsing>=2.2.1\n",
      "  Using cached pyparsing-3.0.9-py3-none-any.whl (98 kB)\n",
      "Requirement already satisfied: python-dateutil>=2.7 in ./env/lib/python3.9/site-packages (from matplotlib>=3.1.3->sweetviz) (2.8.2)\n",
      "Collecting kiwisolver>=1.0.1\n",
      "  Downloading kiwisolver-1.4.4-cp39-cp39-macosx_10_9_x86_64.whl (65 kB)\n",
      "\u001b[2K     \u001b[38;2;114;156;31m━━━━━━━━━━━━━━━━━━━━━━━━━━━━━━━━━━━━━━━━\u001b[0m \u001b[32m65.5/65.5 kB\u001b[0m \u001b[31m2.1 MB/s\u001b[0m eta \u001b[36m0:00:00\u001b[0m\n",
      "\u001b[?25hCollecting cycler>=0.10\n",
      "  Using cached cycler-0.11.0-py3-none-any.whl (6.4 kB)\n",
      "Requirement already satisfied: pytz>=2020.1 in ./env/lib/python3.9/site-packages (from pandas!=1.0.0,!=1.0.1,!=1.0.2,>=0.25.3->sweetviz) (2022.7)\n",
      "Requirement already satisfied: six>=1.5 in ./env/lib/python3.9/site-packages (from python-dateutil>=2.7->matplotlib>=3.1.3->sweetviz) (1.16.0)\n",
      "Installing collected packages: tqdm, scipy, pyparsing, pillow, kiwisolver, importlib-resources, fonttools, cycler, contourpy, matplotlib, sweetviz\n",
      "Successfully installed contourpy-1.0.6 cycler-0.11.0 fonttools-4.38.0 importlib-resources-5.10.1 kiwisolver-1.4.4 matplotlib-3.6.2 pillow-9.3.0 pyparsing-3.0.9 scipy-1.9.3 sweetviz-2.1.4 tqdm-4.64.1\n"
     ]
    }
   ],
   "source": [
    "! pip install sweetviz\n"
   ]
  },
  {
   "cell_type": "code",
   "execution_count": null,
   "id": "23031103",
   "metadata": {},
   "outputs": [],
   "source": []
  }
 ],
 "metadata": {
  "kernelspec": {
   "display_name": "Python 3 (ipykernel)",
   "language": "python",
   "name": "python3"
  },
  "language_info": {
   "codemirror_mode": {
    "name": "ipython",
    "version": 3
   },
   "file_extension": ".py",
   "mimetype": "text/x-python",
   "name": "python",
   "nbconvert_exporter": "python",
   "pygments_lexer": "ipython3",
   "version": "3.9.6"
  }
 },
 "nbformat": 4,
 "nbformat_minor": 5
}
