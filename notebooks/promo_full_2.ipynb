{
 "cells": [
  {
   "cell_type": "code",
   "execution_count": 6,
   "id": "60b3ce62",
   "metadata": {},
   "outputs": [],
   "source": [
    "import pickle\n",
    "\n",
    "with open('promo_pickle.pkl','rb') as pkl:\n",
    "    df = pickle.load(pkl)"
   ]
  },
  {
   "cell_type": "code",
   "execution_count": 7,
   "id": "dbf761d3",
   "metadata": {},
   "outputs": [
    {
     "data": {
      "text/plain": [
       "file_id                               object\n",
       "chainid                                int64\n",
       "subchainid                             int64\n",
       "storeid                                int64\n",
       "bikoretno                              int64\n",
       "priceupdatedate               datetime64[ns]\n",
       "itemcode                               int64\n",
       "isgiftitem                             int64\n",
       "rewardtype                             int64\n",
       "allowmultiplediscounts                 int64\n",
       "promotionid                            int64\n",
       "promotiondetails                      object\n",
       "additionalrestrictions                object\n",
       "clubs                                 object\n",
       "discountrate                         float64\n",
       "discounttype                           int64\n",
       "minqty                               float64\n",
       "promotiondescription                  object\n",
       "weightunit                             int64\n",
       "promotionupdatedate           datetime64[ns]\n",
       "minnoofitemofered                      int64\n",
       "isweightedpromo                        int64\n",
       "promotionitems                        object\n",
       "promotionenddatetime          datetime64[ns]\n",
       "promotionstartdatetime        datetime64[ns]\n",
       "discountedpricepermida               float64\n",
       "discountedprice                      float64\n",
       "minpurchaseamnt                        int64\n",
       "maxqty                               float64\n",
       "remarks                               object\n",
       "remark                                object\n",
       "giftsitems                            object\n",
       "additionalscoupon                     object\n",
       "clubid                                 int64\n",
       "additionalsgiftcount                 float64\n",
       "minpurchaseamount                    float64\n",
       "additionalstotals                     object\n",
       "additionalsminbasketamount            object\n",
       "minnoofitemsoffered                    int64\n",
       "itemtype                               int64\n",
       "dtype: object"
      ]
     },
     "execution_count": 7,
     "metadata": {},
     "output_type": "execute_result"
    }
   ],
   "source": [
    "# dtypes are preserved\n",
    "df.dtypes"
   ]
  },
  {
   "cell_type": "code",
   "execution_count": 10,
   "id": "6d5832c3",
   "metadata": {},
   "outputs": [
    {
     "data": {
      "text/plain": [
       "['remark',\n",
       " 'additionalsgiftcount',\n",
       " 'rewardtype',\n",
       " 'additionalsminbasketamount',\n",
       " 'additionalstotals',\n",
       " 'additionalscoupon',\n",
       " 'remarks',\n",
       " 'priceupdatedate']"
      ]
     },
     "execution_count": 10,
     "metadata": {},
     "output_type": "execute_result"
    }
   ],
   "source": [
    "all_columns = list(df.columns)\n",
    "\n",
    "ignore = [\n",
    "    'bikoretno' # מס ביקורות שאני לא יודע להסביר\n",
    "]\n",
    "\n",
    "index = [\n",
    "    'promotionupdatedate','priceupdatedate' #  שעת עדכון המבצע בנוגע למוצר (לבדוק האם משלימים)\n",
    "    'itemcode', # מספר הברקוד של המצרך\n",
    "    'itemtype' #  האם ברקוד פנימי\n",
    "]\n",
    "promo_start_end = [\n",
    "    'promotionstartdatetime', # תיאור המבצע\n",
    "    'promotionenddatetime'# סוף המבצע\n",
    "]\n",
    "\n",
    "store_columns = [\n",
    "    'file_id', # קובץ מקור\n",
    "    'chainid', # קוד הרשת\n",
    "    'subchainid', # קוד תת-רשת\n",
    "    'storeid', # מספר החנות\n",
    "]\n",
    "\n",
    "\n",
    "deal_condition = [\n",
    "    'minqty',# כמות מזערית להשתתפות במבצע  \n",
    "    'maxqty',# הגבלת כמות לרכישה במסגרת המבצע\n",
    "    'minnoofitemsoffered','minnoofitemofered',  # (לבדוק האם משלימים)המספר המזערי של המצרכים המוצעים במבצע בחנות\n",
    "    'minpurchaseamnt','minpurchaseamount', # סכום הרכישה המזערי(לבדוק האם משלימים) \n",
    "    'additionalrestrictions' # הגבלות נוספות על המבצע\n",
    "]\n",
    "\n",
    "\n",
    "\n",
    "flag_columns = [\n",
    "    'isgiftitem',\n",
    "    'isweightedpromo',\n",
    "    'allowmultiplediscounts' # כפל מבצעים\n",
    "]\n",
    "promo_columns = [\n",
    "    'promotionid', # מזהה מבצע\n",
    "    'discountedprice', # המחיר הכולל של המבצע\n",
    "    'discountrate', # שיעור ההנחה\n",
    "    'discountedpricepermida',\n",
    "    'discounttype','rewardtype' # 0 precentage discount, 1 group deal\n",
    "    'promotiondescription','promotiondetails',  # תיאור\n",
    "    'giftsitems',\n",
    "]\n",
    "\n",
    "\n",
    "quntity_columns = [\n",
    "    'weightunit',\n",
    "]\n",
    "\n",
    "\n",
    "customer_with_deal = [\n",
    "    'clubid','clubs', # האוכלוסייה שאליה מכוון המבצע\n",
    "    'promotionitems'\n",
    "]\n",
    "\n",
    "rest = list(set(all_columns) - set(promo_start_end+index+promo_columns+deal_condition+ignore+store_columns+quntity_columns+customer_with_deal+promo_columns+flag_columns))\n",
    "rest"
   ]
  },
  {
   "cell_type": "code",
   "execution_count": 79,
   "id": "684a0d4d",
   "metadata": {},
   "outputs": [],
   "source": [
    "# bikoretno\n",
    "df = df.drop(columns=['bikoretno'])"
   ]
  },
  {
   "cell_type": "code",
   "execution_count": null,
   "id": "83e5c2fc",
   "metadata": {},
   "outputs": [],
   "source": [
    "# discounttype"
   ]
  },
  {
   "cell_type": "code",
   "execution_count": 41,
   "id": "08325353",
   "metadata": {},
   "outputs": [
    {
     "data": {
      "text/plain": [
       "array([7290058134977, 7290027600007, 7290058173198, 7290058197699,\n",
       "       7290058108879, 7290875100001, 7290058198450, 7290058160839,\n",
       "       7290058159628, 7290696200003])"
      ]
     },
     "execution_count": 41,
     "metadata": {},
     "output_type": "execute_result"
    }
   ],
   "source": [
    "# check if this type is in use in all chains\n",
    "discounttype_on_chain_id = df[df.discounttype == 1]['chainid'].unique()\n",
    "discounttype_on_chain_id"
   ]
  },
  {
   "cell_type": "code",
   "execution_count": 42,
   "id": "e742ba75",
   "metadata": {},
   "outputs": [
    {
     "data": {
      "text/plain": [
       "array([7290058134977, 7290027600007, 7290058173198, 7290058197699,\n",
       "       7290058108879, 7290875100001, 7290058198450, 7290058160839,\n",
       "       7290058159628, 7290696200003])"
      ]
     },
     "execution_count": 42,
     "metadata": {},
     "output_type": "execute_result"
    }
   ],
   "source": [
    "discounttype_off_chain_id = df[df.discounttype == 0]['chainid'].unique()\n",
    "discounttype_off_chain_id"
   ]
  },
  {
   "cell_type": "code",
   "execution_count": 44,
   "id": "facdf55a",
   "metadata": {},
   "outputs": [
    {
     "data": {
      "text/plain": [
       "True"
      ]
     },
     "execution_count": 44,
     "metadata": {},
     "output_type": "execute_result"
    }
   ],
   "source": [
    "set(discounttype_off_chain_id) - set(discounttype_on_chain_id) == set()\n",
    "# seem like those chains are using the type"
   ]
  },
  {
   "cell_type": "code",
   "execution_count": 45,
   "id": "aa7fceb5",
   "metadata": {},
   "outputs": [
    {
     "data": {
      "text/plain": [
       "array([7290172900007, 7290058140886, 7291059100008, 7290873255550,\n",
       "       7290027600007, 7290725900003, 7290876100000, 7290103152017,\n",
       "       7291056200008, 7290639000004, 7290803800003, 7290526500006,\n",
       "       7290055700014, 7290644700005, 7290492000005, 7290700100008,\n",
       "       7290785400000])"
      ]
     },
     "execution_count": 45,
     "metadata": {},
     "output_type": "execute_result"
    }
   ],
   "source": [
    "discounttype_nan_chain_id = df[df.discounttype == -1]['chainid'].unique()\n",
    "discounttype_nan_chain_id"
   ]
  },
  {
   "cell_type": "code",
   "execution_count": 71,
   "id": "a2e751c7",
   "metadata": {},
   "outputs": [
    {
     "data": {
      "text/plain": [
       "[7290027600007]"
      ]
     },
     "execution_count": 71,
     "metadata": {},
     "output_type": "execute_result"
    }
   ],
   "source": [
    "list(set(discounttype_nan_chain_id) & set(discounttype_off_chain_id))\n",
    "# this chain use also the -1 as 'unknown'?"
   ]
  },
  {
   "cell_type": "code",
   "execution_count": 77,
   "id": "4bbf78dd",
   "metadata": {},
   "outputs": [],
   "source": [
    "df.loc[(df.discounttype == -1) & (~df.chainid.isin(list(set(discounttype_nan_chain_id) & set(discounttype_off_chain_id)))\n",
    "),'discounttype'] = -2 "
   ]
  },
  {
   "cell_type": "code",
   "execution_count": null,
   "id": "fe768731",
   "metadata": {},
   "outputs": [],
   "source": []
  }
 ],
 "metadata": {
  "kernelspec": {
   "display_name": "Python 3 (ipykernel)",
   "language": "python",
   "name": "python3"
  },
  "language_info": {
   "codemirror_mode": {
    "name": "ipython",
    "version": 3
   },
   "file_extension": ".py",
   "mimetype": "text/x-python",
   "name": "python",
   "nbconvert_exporter": "python",
   "pygments_lexer": "ipython3",
   "version": "3.9.6"
  }
 },
 "nbformat": 4,
 "nbformat_minor": 5
}
